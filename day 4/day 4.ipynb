{
 "cells": [
  {
   "cell_type": "code",
   "execution_count": 1,
   "id": "8a2c4dfa",
   "metadata": {},
   "outputs": [],
   "source": [
    "import sys\n",
    "sys.path.append(\"..\")\n",
    "from scripts.aoc import input_as_lines"
   ]
  },
  {
   "cell_type": "code",
   "execution_count": 2,
   "id": "ed90e943",
   "metadata": {},
   "outputs": [],
   "source": [
    "file_name = \"input.txt\"\n",
    "clean_list = input_as_lines(file_name)"
   ]
  },
  {
   "cell_type": "code",
   "execution_count": 6,
   "id": "6c21ad5b",
   "metadata": {},
   "outputs": [],
   "source": [
    "count = 0\n",
    "count_part_two = 0\n",
    "for entry in clean_list:\n",
    "    # do some formatting on the entries\n",
    "    first, second = entry.split(',')\n",
    "    first_i, first_j = first.split('-')\n",
    "    second_i, second_j = second.split('-')\n",
    "    \n",
    "    # make a set out of all the numbers in first and second\n",
    "    first_set = set(range(int(first_i),int(first_j)+1))\n",
    "    second_set = set(range(int(second_i),int(second_j)+1))\n",
    "    \n",
    "    # check if one is a subset of the other\n",
    "    if first_set.issubset(second_set) or second_set.issubset(first_set):\n",
    "        count +=1\n",
    "        \n",
    "    if first_set.intersection(second_set) or second_set.intersection(first_set):\n",
    "        count_part_two +=1"
   ]
  },
  {
   "cell_type": "code",
   "execution_count": 4,
   "id": "057b0ee8",
   "metadata": {},
   "outputs": [
    {
     "data": {
      "text/plain": [
       "582"
      ]
     },
     "execution_count": 4,
     "metadata": {},
     "output_type": "execute_result"
    }
   ],
   "source": [
    "count"
   ]
  },
  {
   "cell_type": "markdown",
   "id": "979a23f4",
   "metadata": {},
   "source": [
    "### part two"
   ]
  },
  {
   "cell_type": "code",
   "execution_count": 7,
   "id": "f5670dcf",
   "metadata": {},
   "outputs": [
    {
     "data": {
      "text/plain": [
       "893"
      ]
     },
     "execution_count": 7,
     "metadata": {},
     "output_type": "execute_result"
    }
   ],
   "source": [
    "count_part_two"
   ]
  },
  {
   "cell_type": "code",
   "execution_count": null,
   "id": "0ab0f33d",
   "metadata": {},
   "outputs": [],
   "source": []
  }
 ],
 "metadata": {
  "kernelspec": {
   "display_name": "AOC",
   "language": "python",
   "name": "aoc"
  },
  "language_info": {
   "codemirror_mode": {
    "name": "ipython",
    "version": 3
   },
   "file_extension": ".py",
   "mimetype": "text/x-python",
   "name": "python",
   "nbconvert_exporter": "python",
   "pygments_lexer": "ipython3",
   "version": "3.10.8"
  }
 },
 "nbformat": 4,
 "nbformat_minor": 5
}
