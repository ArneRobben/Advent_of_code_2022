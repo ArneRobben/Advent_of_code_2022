{
 "cells": [
  {
   "cell_type": "code",
   "execution_count": 1,
   "id": "8a2c4dfa",
   "metadata": {},
   "outputs": [],
   "source": [
    "import sys\n",
    "sys.path.append(\"..\")\n",
    "from scripts.aoc import input_as_lines"
   ]
  },
  {
   "cell_type": "code",
   "execution_count": 3,
   "id": "ed90e943",
   "metadata": {},
   "outputs": [],
   "source": [
    "file_name = \"input.txt\"\n",
    "clean_list = input_as_lines(file_name)"
   ]
  },
  {
   "cell_type": "code",
   "execution_count": 23,
   "id": "6c21ad5b",
   "metadata": {},
   "outputs": [],
   "source": [
    "count = 0\n",
    "for entry in clean_list:\n",
    "    # do some formatting on the entries\n",
    "    first, second = entry.split(',')\n",
    "    first_i, first_j = first.split('-')\n",
    "    second_i, second_j = second.split('-')\n",
    "    \n",
    "    # make a set out of all the numbers in first and second\n",
    "    first_set = set(range(int(first_i),int(first_j)+1))\n",
    "    second_set = set(range(int(second_i),int(second_j)+1))\n",
    "    \n",
    "    # check if one is a subset of the other\n",
    "    if first_set.issubset(second_set) or second_set.issubset(first_set):\n",
    "        count +=1"
   ]
  },
  {
   "cell_type": "code",
   "execution_count": 24,
   "id": "057b0ee8",
   "metadata": {},
   "outputs": [
    {
     "data": {
      "text/plain": [
       "582"
      ]
     },
     "execution_count": 24,
     "metadata": {},
     "output_type": "execute_result"
    }
   ],
   "source": [
    "count"
   ]
  },
  {
   "cell_type": "code",
   "execution_count": null,
   "id": "aa25422e",
   "metadata": {},
   "outputs": [],
   "source": []
  }
 ],
 "metadata": {
  "kernelspec": {
   "display_name": "AOC",
   "language": "python",
   "name": "myenv"
  },
  "language_info": {
   "codemirror_mode": {
    "name": "ipython",
    "version": 3
   },
   "file_extension": ".py",
   "mimetype": "text/x-python",
   "name": "python",
   "nbconvert_exporter": "python",
   "pygments_lexer": "ipython3",
   "version": "3.9.5"
  }
 },
 "nbformat": 4,
 "nbformat_minor": 5
}
