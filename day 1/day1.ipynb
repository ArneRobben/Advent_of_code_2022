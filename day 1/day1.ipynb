{
 "cells": [
  {
   "cell_type": "code",
   "execution_count": 5,
   "id": "d7676bb7",
   "metadata": {},
   "outputs": [],
   "source": [
    "import sys\n",
    "sys.path.append(\"..\")\n",
    "from scripts.aoc import input_as_lines\n"
   ]
  },
  {
   "cell_type": "code",
   "execution_count": 8,
   "id": "ad373233",
   "metadata": {},
   "outputs": [],
   "source": [
    "file_name = \"input.txt\"\n",
    "elf_calory_list = input_as_lines(file_name)"
   ]
  },
  {
   "cell_type": "code",
   "execution_count": 22,
   "id": "77ec11a8",
   "metadata": {},
   "outputs": [],
   "source": [
    "elf_calory_list_sum = [] # a place where we can gather the totals\n",
    "calory_counter = 0\n",
    "\n",
    "for calory in elf_calory_list:\n",
    "    if len(calory)>0: # if it's a number\n",
    "        calory_counter += int(calory) # add on the calories\n",
    "    else:\n",
    "        elf_calory_list_sum.append(calory_counter) # add the running sum\n",
    "        calory_counter = 0 # reset back to zero\n",
    "        "
   ]
  },
  {
   "cell_type": "code",
   "execution_count": 26,
   "id": "44dc0d17",
   "metadata": {},
   "outputs": [
    {
     "data": {
      "text/plain": [
       "66719"
      ]
     },
     "execution_count": 26,
     "metadata": {},
     "output_type": "execute_result"
    }
   ],
   "source": [
    "# find the max total calories\n",
    "max(elf_calory_list_sum)\n"
   ]
  },
  {
   "cell_type": "code",
   "execution_count": null,
   "id": "dfaa79bd",
   "metadata": {},
   "outputs": [],
   "source": []
  }
 ],
 "metadata": {
  "kernelspec": {
   "display_name": "AOC",
   "language": "python",
   "name": "aoc"
  },
  "language_info": {
   "codemirror_mode": {
    "name": "ipython",
    "version": 3
   },
   "file_extension": ".py",
   "mimetype": "text/x-python",
   "name": "python",
   "nbconvert_exporter": "python",
   "pygments_lexer": "ipython3",
   "version": "3.10.8"
  }
 },
 "nbformat": 4,
 "nbformat_minor": 5
}
