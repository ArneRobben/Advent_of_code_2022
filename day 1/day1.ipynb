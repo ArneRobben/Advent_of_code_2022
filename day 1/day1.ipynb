{
 "cells": [
  {
   "cell_type": "code",
   "execution_count": 2,
   "id": "d7676bb7",
   "metadata": {},
   "outputs": [],
   "source": [
    "import sys\n",
    "sys.path.append(\"..\")\n",
    "from scripts.aoc import input_as_lines\n"
   ]
  },
  {
   "cell_type": "code",
   "execution_count": 3,
   "id": "ad373233",
   "metadata": {},
   "outputs": [],
   "source": [
    "file_name = \"input.txt\"\n",
    "elf_calorie_list = input_as_lines(file_name)"
   ]
  },
  {
   "cell_type": "code",
   "execution_count": 4,
   "id": "c4e5b86e",
   "metadata": {},
   "outputs": [],
   "source": [
    "elf_calorie_list_sum = [] # a place where we can gather the totals\n",
    "calorie_counter = 0\n",
    "\n",
    "for calorie in elf_calorie_list:\n",
    "    if len(calorie)>0: # if it's a number\n",
    "        calorie_counter += int(calorie) # add on the calories\n",
    "    else:\n",
    "        elf_calorie_list_sum.append(calorie_counter) # add the running sum\n",
    "        calorie_counter = 0 # reset back to zero\n",
    "        "
   ]
  },
  {
   "cell_type": "code",
   "execution_count": 5,
   "id": "713a2c49",
   "metadata": {},
   "outputs": [
    {
     "data": {
      "text/plain": [
       "66719"
      ]
     },
     "execution_count": 5,
     "metadata": {},
     "output_type": "execute_result"
    }
   ],
   "source": [
    "# find the max total calories\n",
    "max(elf_calorie_list_sum)\n"
   ]
  },
  {
   "cell_type": "markdown",
   "id": "1fdd1aad",
   "metadata": {},
   "source": [
    "### part 2"
   ]
  },
  {
   "cell_type": "code",
   "execution_count": 11,
   "id": "023f397c",
   "metadata": {},
   "outputs": [
    {
     "data": {
      "text/plain": [
       "198551"
      ]
     },
     "execution_count": 11,
     "metadata": {},
     "output_type": "execute_result"
    }
   ],
   "source": [
    "elf_calorie_list_sum.sort(reverse=True)\n",
    "sum(elf_calorie_list_sum[0:3])"
   ]
  },
  {
   "cell_type": "code",
   "execution_count": null,
   "id": "8175a80b",
   "metadata": {},
   "outputs": [],
   "source": []
  }
 ],
 "metadata": {
  "kernelspec": {
   "display_name": "AOC",
   "language": "python",
   "name": "aoc"
  },
  "language_info": {
   "codemirror_mode": {
    "name": "ipython",
    "version": 3
   },
   "file_extension": ".py",
   "mimetype": "text/x-python",
   "name": "python",
   "nbconvert_exporter": "python",
   "pygments_lexer": "ipython3",
   "version": "3.10.8"
  }
 },
 "nbformat": 4,
 "nbformat_minor": 5
}
