{
 "cells": [
  {
   "cell_type": "code",
   "execution_count": 1,
   "id": "9145cf2f",
   "metadata": {},
   "outputs": [],
   "source": [
    "import sys\n",
    "sys.path.append(\"..\")\n",
    "from scripts.aoc import input_as_string"
   ]
  },
  {
   "cell_type": "code",
   "execution_count": 3,
   "id": "554757a6",
   "metadata": {},
   "outputs": [],
   "source": [
    "input_string = input_as_string(\"input.txt\")"
   ]
  },
  {
   "cell_type": "code",
   "execution_count": 10,
   "id": "012351df",
   "metadata": {},
   "outputs": [
    {
     "name": "stdout",
     "output_type": "stream",
     "text": [
      "1647\n"
     ]
    }
   ],
   "source": [
    "index = 4\n",
    "start_of_packet = False\n",
    "\n",
    "def all_unique_chars(input_str):\n",
    "    input_list = [char for char in input_str]\n",
    "    input_set = set(input_list)\n",
    "    if len(input_list)==len(list(input_set)):\n",
    "        return True\n",
    "    else:\n",
    "        return False\n",
    "    \n",
    "while index <= len(input_string) and start_of_packet == False:\n",
    "    sliding_window = input_string[index-4:index]\n",
    "    if all_unique_chars(sliding_window):\n",
    "        start_of_packet = True\n",
    "        print(index)\n",
    "    else:\n",
    "        index += 1"
   ]
  },
  {
   "cell_type": "markdown",
   "id": "39b86618",
   "metadata": {},
   "source": [
    "### Part two"
   ]
  },
  {
   "cell_type": "code",
   "execution_count": 11,
   "id": "92e860a6",
   "metadata": {},
   "outputs": [
    {
     "name": "stdout",
     "output_type": "stream",
     "text": [
      "2447\n"
     ]
    }
   ],
   "source": [
    "index = 14\n",
    "start_of_message = False\n",
    "\n",
    "while index <= len(input_string) and start_of_message == False:\n",
    "    sliding_window = input_string[index-14:index]\n",
    "    if all_unique_chars(sliding_window):\n",
    "        start_of_message = True\n",
    "        print(index)\n",
    "    else:\n",
    "        index += 1"
   ]
  },
  {
   "cell_type": "code",
   "execution_count": null,
   "id": "e8b63110",
   "metadata": {},
   "outputs": [],
   "source": []
  }
 ],
 "metadata": {
  "kernelspec": {
   "display_name": "AOC",
   "language": "python",
   "name": "aoc"
  },
  "language_info": {
   "codemirror_mode": {
    "name": "ipython",
    "version": 3
   },
   "file_extension": ".py",
   "mimetype": "text/x-python",
   "name": "python",
   "nbconvert_exporter": "python",
   "pygments_lexer": "ipython3",
   "version": "3.10.8"
  }
 },
 "nbformat": 4,
 "nbformat_minor": 5
}
