{
 "cells": [
  {
   "cell_type": "code",
   "execution_count": 1,
   "id": "32774495",
   "metadata": {},
   "outputs": [],
   "source": [
    "import sys\n",
    "sys.path.append(\"..\")\n",
    "from scripts.aoc import input_as_lines\n"
   ]
  },
  {
   "cell_type": "code",
   "execution_count": 24,
   "id": "1450d44c",
   "metadata": {},
   "outputs": [],
   "source": [
    "input_lines = input_as_lines(\"input.txt\")"
   ]
  },
  {
   "cell_type": "code",
   "execution_count": 25,
   "id": "59b622f7",
   "metadata": {},
   "outputs": [],
   "source": [
    "value_list = []\n",
    "current_value = 1\n",
    "for line in input_lines:\n",
    "    if len(line.split(' ')) == 1: # we are looking at a noop\n",
    "        value_list.append(current_value)\n",
    "    else:\n",
    "        command, number = line.split(' ') #we are looking at an addx\n",
    "        value_list.append(current_value)\n",
    "        value_list.append(current_value)\n",
    "        current_value += int(number)\n",
    "        "
   ]
  },
  {
   "cell_type": "code",
   "execution_count": 28,
   "id": "ccc6ef8c",
   "metadata": {},
   "outputs": [],
   "source": [
    "cycle_indices = [20, 60, 100, 140, 180, 220]\n",
    "answer = 0\n",
    "for index in cycle_indices:\n",
    "    answer+=index * value_list[index-1]"
   ]
  },
  {
   "cell_type": "code",
   "execution_count": 27,
   "id": "2564a5cc",
   "metadata": {},
   "outputs": [
    {
     "data": {
      "text/plain": [
       "12840"
      ]
     },
     "execution_count": 27,
     "metadata": {},
     "output_type": "execute_result"
    }
   ],
   "source": [
    "answer"
   ]
  },
  {
   "cell_type": "markdown",
   "id": "c1775d10",
   "metadata": {},
   "source": [
    "### part 2"
   ]
  },
  {
   "cell_type": "code",
   "execution_count": 29,
   "id": "3ef0879e",
   "metadata": {},
   "outputs": [
    {
     "data": {
      "text/plain": [
       "240"
      ]
     },
     "execution_count": 29,
     "metadata": {},
     "output_type": "execute_result"
    }
   ],
   "source": [
    "len(value_list)"
   ]
  },
  {
   "cell_type": "code",
   "execution_count": 36,
   "id": "6f77ab6c",
   "metadata": {},
   "outputs": [],
   "source": [
    "screen = []\n",
    "for index, value in enumerate(value_list):\n",
    "    index_m = index % 40\n",
    "    if index_m-1 == value or index_m == value or index_m+1 == value:\n",
    "        screen.append('#')\n",
    "    else:\n",
    "        screen.append('.')"
   ]
  },
  {
   "cell_type": "code",
   "execution_count": 37,
   "id": "d123aede",
   "metadata": {},
   "outputs": [
    {
     "name": "stdout",
     "output_type": "stream",
     "text": [
      "####.#..#...##.####.###....##.####.####.\n",
      "...#.#.#.....#.#....#..#....#.#.......#.\n",
      "..#..##......#.###..###.....#.###....#..\n",
      ".#...#.#.....#.#....#..#....#.#.....#...\n",
      "#....#.#..#..#.#....#..#.#..#.#....#....\n",
      "####.#..#..##..#....###...##..#....####.\n"
     ]
    }
   ],
   "source": [
    "print(''.join(screen[0:40]))\n",
    "print(''.join(screen[40:80]))\n",
    "print(''.join(screen[80:120]))\n",
    "print(''.join(screen[120:160]))\n",
    "print(''.join(screen[160:200]))\n",
    "print(''.join(screen[200:240]))"
   ]
  },
  {
   "cell_type": "code",
   "execution_count": null,
   "id": "1dbed786",
   "metadata": {},
   "outputs": [],
   "source": []
  }
 ],
 "metadata": {
  "kernelspec": {
   "display_name": "AOC",
   "language": "python",
   "name": "aoc"
  },
  "language_info": {
   "codemirror_mode": {
    "name": "ipython",
    "version": 3
   },
   "file_extension": ".py",
   "mimetype": "text/x-python",
   "name": "python",
   "nbconvert_exporter": "python",
   "pygments_lexer": "ipython3",
   "version": "3.10.8"
  }
 },
 "nbformat": 4,
 "nbformat_minor": 5
}
