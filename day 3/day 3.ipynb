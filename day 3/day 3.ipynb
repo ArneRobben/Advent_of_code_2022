{
 "cells": [
  {
   "cell_type": "code",
   "execution_count": 8,
   "id": "770305d6",
   "metadata": {},
   "outputs": [],
   "source": [
    "import sys\n",
    "sys.path.append(\"..\")\n",
    "from scripts.aoc import input_as_lines\n"
   ]
  },
  {
   "cell_type": "code",
   "execution_count": 9,
   "id": "943c533d",
   "metadata": {},
   "outputs": [],
   "source": [
    "file_name = \"input.txt\"\n",
    "rucksack_list = input_as_lines(file_name)"
   ]
  },
  {
   "cell_type": "code",
   "execution_count": 10,
   "id": "41e09f1e",
   "metadata": {},
   "outputs": [],
   "source": [
    "def letter_to_score(letter):\n",
    "    if ord(letter) <= 90: # you are dealing with a capital letter\n",
    "        return ord(letter)-38\n",
    "    else: # you are dealing with a lowercase letter\n",
    "        return ord(letter)-96"
   ]
  },
  {
   "cell_type": "code",
   "execution_count": 11,
   "id": "af81b46f",
   "metadata": {},
   "outputs": [],
   "source": [
    "overlap_list = []\n",
    "for item in rucksack_list:\n",
    "    n = len(item)\n",
    "    compartment_1 = item[0:round(n/2)]\n",
    "    compartment_2 = item[round(n/2):]\n",
    "    \n",
    "    compartment_1_set = set([letter for letter in compartment_1])\n",
    "    compartment_2_set = set([letter for letter in compartment_2])\n",
    "    \n",
    "    overlap = compartment_1_set.intersection(compartment_2_set)\n",
    "    overlap_list.append(list(overlap))"
   ]
  },
  {
   "cell_type": "code",
   "execution_count": 17,
   "id": "8d734e4d",
   "metadata": {},
   "outputs": [],
   "source": [
    "overlap_list_score = [letter_to_score(letter[0]) for letter in overlap_list]"
   ]
  },
  {
   "cell_type": "code",
   "execution_count": 20,
   "id": "9c64b1dc",
   "metadata": {},
   "outputs": [
    {
     "data": {
      "text/plain": [
       "8123"
      ]
     },
     "execution_count": 20,
     "metadata": {},
     "output_type": "execute_result"
    }
   ],
   "source": [
    "sum(overlap_list_score)"
   ]
  },
  {
   "cell_type": "markdown",
   "id": "125c4df1",
   "metadata": {},
   "source": [
    "### part 2"
   ]
  },
  {
   "cell_type": "code",
   "execution_count": 39,
   "id": "1ad1756e",
   "metadata": {},
   "outputs": [],
   "source": [
    "groups = zip(rucksack_list[0::3], rucksack_list[1::3], rucksack_list[2::3])\n",
    "score = []\n",
    "for first, second, third in groups:\n",
    "    common = set(first).intersection(second).intersection(third)\n",
    "    score.append(letter_to_score(list(common)[0]))"
   ]
  },
  {
   "cell_type": "code",
   "execution_count": 41,
   "id": "464b8859",
   "metadata": {},
   "outputs": [
    {
     "data": {
      "text/plain": [
       "2620"
      ]
     },
     "execution_count": 41,
     "metadata": {},
     "output_type": "execute_result"
    }
   ],
   "source": [
    "sum(score)"
   ]
  },
  {
   "cell_type": "code",
   "execution_count": null,
   "id": "7b9c0a59",
   "metadata": {},
   "outputs": [],
   "source": []
  }
 ],
 "metadata": {
  "kernelspec": {
   "display_name": "AOC",
   "language": "python",
   "name": "aoc"
  },
  "language_info": {
   "codemirror_mode": {
    "name": "ipython",
    "version": 3
   },
   "file_extension": ".py",
   "mimetype": "text/x-python",
   "name": "python",
   "nbconvert_exporter": "python",
   "pygments_lexer": "ipython3",
   "version": "3.10.8"
  }
 },
 "nbformat": 4,
 "nbformat_minor": 5
}
