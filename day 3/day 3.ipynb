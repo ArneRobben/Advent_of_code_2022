{
 "cells": [
  {
   "cell_type": "code",
   "execution_count": 1,
   "id": "770305d6",
   "metadata": {},
   "outputs": [],
   "source": [
    "import sys\n",
    "sys.path.append(\"..\")\n",
    "from scripts.aoc import input_as_lines\n"
   ]
  },
  {
   "cell_type": "code",
   "execution_count": 3,
   "id": "943c533d",
   "metadata": {},
   "outputs": [],
   "source": [
    "file_name = \"input.txt\"\n",
    "rucksack_list = input_as_lines(file_name)"
   ]
  },
  {
   "cell_type": "code",
   "execution_count": 17,
   "id": "41e09f1e",
   "metadata": {},
   "outputs": [],
   "source": [
    "def letter_to_score(letter):\n",
    "    if ord(letter) <= 90: # you are dealing with a capital letter\n",
    "        return ord(letter)-38\n",
    "    else: # you are dealing with a lowercase letter\n",
    "        return ord(letter)-96"
   ]
  },
  {
   "cell_type": "code",
   "execution_count": 25,
   "id": "af81b46f",
   "metadata": {},
   "outputs": [],
   "source": [
    "overlap_list = []\n",
    "for item in rucksack_list:\n",
    "    n = len(item)\n",
    "    compartment_1 = item[0:round(n/2)]\n",
    "    compartment_2 = item[round(n/2):]\n",
    "    \n",
    "    compartment_1_set = set([letter for letter in compartment_1])\n",
    "    compartment_2_set = set([letter for letter in compartment_2])\n",
    "    \n",
    "    overlap = compartment_1_set.intersection(compartment_2_set)\n",
    "    overlap_list.append(list(overlap))"
   ]
  },
  {
   "cell_type": "code",
   "execution_count": 26,
   "id": "8d734e4d",
   "metadata": {},
   "outputs": [],
   "source": [
    "overlap_list_score = [letter_to_score(letter) for letter in overlap_list[0]]"
   ]
  },
  {
   "cell_type": "code",
   "execution_count": 24,
   "id": "bf437521",
   "metadata": {},
   "outputs": [
    {
     "data": {
      "text/plain": [
       "['s']"
      ]
     },
     "execution_count": 24,
     "metadata": {},
     "output_type": "execute_result"
    }
   ],
   "source": [
    "overlap_list_"
   ]
  },
  {
   "cell_type": "code",
   "execution_count": null,
   "id": "9c64b1dc",
   "metadata": {},
   "outputs": [],
   "source": []
  }
 ],
 "metadata": {
  "kernelspec": {
   "display_name": "AOC",
   "language": "python",
   "name": "myenv"
  },
  "language_info": {
   "codemirror_mode": {
    "name": "ipython",
    "version": 3
   },
   "file_extension": ".py",
   "mimetype": "text/x-python",
   "name": "python",
   "nbconvert_exporter": "python",
   "pygments_lexer": "ipython3",
   "version": "3.9.5"
  }
 },
 "nbformat": 4,
 "nbformat_minor": 5
}
