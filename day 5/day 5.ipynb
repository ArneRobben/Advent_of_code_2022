{
 "cells": [
  {
   "cell_type": "code",
   "execution_count": 203,
   "id": "af70a32d",
   "metadata": {},
   "outputs": [],
   "source": [
    "import sys\n",
    "import copy\n",
    "from collections import defaultdict\n",
    "sys.path.append(\"..\")\n",
    "from scripts.aoc import input_as_lines"
   ]
  },
  {
   "cell_type": "code",
   "execution_count": 4,
   "id": "21f9a9d9",
   "metadata": {},
   "outputs": [],
   "source": [
    "file_name = \"input.txt\"\n",
    "input_list = input_as_lines(file_name)"
   ]
  },
  {
   "cell_type": "code",
   "execution_count": 199,
   "id": "d0c9d121",
   "metadata": {},
   "outputs": [],
   "source": [
    "# transform the stacklist in a more useable format\n",
    "stack_list = input_list[0:8]\n",
    "stack_dict = defaultdict(list)\n",
    "    \n",
    "for stack in stack_list[::-1]:\n",
    "    n_chars = len(stack_list[0])\n",
    "    crate_index = list(range(1,n_chars, 4)) # this is where te letters are buried\n",
    "    for row_index in list(range(1, len(crate_index)+1)): \n",
    "        stack_index = crate_index[row_index-1] # this is the stack index: 1 to 9\n",
    "        crate = stack[stack_index]\n",
    "        if crate != ' ':\n",
    "            stack_dict[row_index].append(crate)\n",
    "    \n",
    "    "
   ]
  },
  {
   "cell_type": "code",
   "execution_count": 200,
   "id": "6d1ed625",
   "metadata": {},
   "outputs": [
    {
     "data": {
      "text/plain": [
       "defaultdict(list,\n",
       "            {1: ['W', 'B', 'D', 'N', 'C', 'F', 'J'],\n",
       "             2: ['P', 'Z', 'V', 'Q', 'L', 'S', 'T'],\n",
       "             3: ['P', 'Z', 'B', 'G', 'J', 'T'],\n",
       "             4: ['D', 'T', 'L', 'J', 'Z', 'B', 'H', 'C'],\n",
       "             5: ['G', 'V', 'B', 'J', 'S'],\n",
       "             6: ['P', 'S', 'Q'],\n",
       "             7: ['B', 'V', 'D', 'F', 'L', 'M', 'P', 'N'],\n",
       "             8: ['P', 'S', 'M', 'F', 'B', 'D', 'L', 'R'],\n",
       "             9: ['V', 'D', 'T', 'R']})"
      ]
     },
     "execution_count": 200,
     "metadata": {},
     "output_type": "execute_result"
    }
   ],
   "source": [
    "# let's have a look at the dict:\n",
    "stack_dict"
   ]
  },
  {
   "cell_type": "code",
   "execution_count": 201,
   "id": "35f4c116",
   "metadata": {},
   "outputs": [],
   "source": [
    "# now let's focus on the move list\n",
    "move_list = input_list[10:]"
   ]
  },
  {
   "cell_type": "code",
   "execution_count": 202,
   "id": "a9b769ab",
   "metadata": {},
   "outputs": [],
   "source": [
    "# let's pull out the numbers only\n",
    "move_list_optimised = []\n",
    "for move in move_list:\n",
    "    move_elements = move.split(' ')\n",
    "    move_list_optimised.append([int(el) for el in move_elements[1::2]])"
   ]
  },
  {
   "cell_type": "code",
   "execution_count": 204,
   "id": "9ea28509",
   "metadata": {},
   "outputs": [],
   "source": [
    "part_1_dict = copy.deepcopy(stack_dict)"
   ]
  },
  {
   "cell_type": "code",
   "execution_count": 205,
   "id": "f28e6fd5",
   "metadata": {},
   "outputs": [],
   "source": [
    "# ok now let's do the actual operation\n",
    "for move in move_list_optimised:\n",
    "\n",
    "    # take away the blocks from the stack in move[1]\n",
    "    blocks_to_keep = part_1_dict[move[1]][0:-move[0]]\n",
    "    blocks_to_transfer = part_1_dict[move[1]][-move[0]:]\n",
    "    part_1_dict[move[1]] = blocks_to_keep\n",
    "\n",
    "    # add them on to the stack in move[2]\n",
    "    part_1_dict[move[2]].extend(blocks_to_transfer[::-1])\n"
   ]
  },
  {
   "cell_type": "code",
   "execution_count": 206,
   "id": "32a07665",
   "metadata": {},
   "outputs": [
    {
     "name": "stdout",
     "output_type": "stream",
     "text": [
      "LBLVVTVLP\n"
     ]
    }
   ],
   "source": [
    "# print the output\n",
    "answer = \"\"\n",
    "for index in list(range(1, 10)):\n",
    "    answer += part_1_dict[index][-1]\n",
    "    \n",
    "print(answer)"
   ]
  },
  {
   "cell_type": "markdown",
   "id": "a5cff099",
   "metadata": {},
   "source": [
    "### part 2"
   ]
  },
  {
   "cell_type": "code",
   "execution_count": 207,
   "id": "09aaeb73",
   "metadata": {},
   "outputs": [],
   "source": [
    "part_2_dict = copy.deepcopy(stack_dict)\n",
    "\n",
    "# ok now let's do the actual operation again\n",
    "for move in move_list_optimised:\n",
    "\n",
    "    # take away the blocks from the stack in move[1]\n",
    "    blocks_to_keep = part_2_dict[move[1]][0:-move[0]]\n",
    "    blocks_to_transfer = part_2_dict[move[1]][-move[0]:]\n",
    "    part_2_dict[move[1]] = blocks_to_keep\n",
    "\n",
    "    # add them on to the stack in move[2]\n",
    "    part_2_dict[move[2]].extend(blocks_to_transfer)"
   ]
  },
  {
   "cell_type": "code",
   "execution_count": 208,
   "id": "7933bda2",
   "metadata": {},
   "outputs": [
    {
     "name": "stdout",
     "output_type": "stream",
     "text": [
      "TPFFBDRJD\n"
     ]
    }
   ],
   "source": [
    "# print the output\n",
    "answer = \"\"\n",
    "for index in list(range(1, 10)):\n",
    "    answer += part_2_dict[index][-1]\n",
    "    \n",
    "print(answer)"
   ]
  },
  {
   "cell_type": "code",
   "execution_count": null,
   "id": "1c6ecde9",
   "metadata": {},
   "outputs": [],
   "source": []
  }
 ],
 "metadata": {
  "kernelspec": {
   "display_name": "AOC",
   "language": "python",
   "name": "aoc"
  },
  "language_info": {
   "codemirror_mode": {
    "name": "ipython",
    "version": 3
   },
   "file_extension": ".py",
   "mimetype": "text/x-python",
   "name": "python",
   "nbconvert_exporter": "python",
   "pygments_lexer": "ipython3",
   "version": "3.10.8"
  }
 },
 "nbformat": 4,
 "nbformat_minor": 5
}
