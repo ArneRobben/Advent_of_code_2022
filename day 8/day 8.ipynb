{
 "cells": [
  {
   "cell_type": "code",
   "execution_count": 1,
   "id": "b9922f65",
   "metadata": {},
   "outputs": [],
   "source": [
    "import sys\n",
    "from collections import defaultdict\n",
    "sys.path.append(\"..\")\n",
    "from scripts.aoc import input_as_lines\n"
   ]
  },
  {
   "cell_type": "code",
   "execution_count": 92,
   "id": "2e098abd",
   "metadata": {},
   "outputs": [],
   "source": [
    "grid = input_as_lines('input.txt')"
   ]
  },
  {
   "cell_type": "code",
   "execution_count": 93,
   "id": "8a8471c1",
   "metadata": {},
   "outputs": [],
   "source": [
    "coord_dict = defaultdict()\n",
    "row_index = 1\n",
    "for row in grid:\n",
    "    col_index = 1\n",
    "    for col in row:\n",
    "        coord_dict[(row_index, col_index)] = int(col)\n",
    "        col_index +=1\n",
    "    row_index +=1\n",
    "    "
   ]
  },
  {
   "cell_type": "code",
   "execution_count": 94,
   "id": "5d321d0a",
   "metadata": {},
   "outputs": [],
   "source": [
    "max_index = len(grid[0])\n",
    "\n",
    "def trees_to_the_top(row, col, coord_dict):\n",
    "    return [coord_dict[(row-i, col)] for i in range(1, row)]\n",
    "    \n",
    "def trees_to_the_bottom(row, col, coord_dict):\n",
    "    return [coord_dict[(i, col)] for i in range(row+1, max_index+1)]\n",
    "    \n",
    "def trees_to_the_left(row, col, coord_dict):\n",
    "    return [coord_dict[(row, col-i)] for i in range(1, col)]\n",
    "    \n",
    "def trees_to_the_right(row, col, coord_dict):\n",
    "    return [coord_dict[(row, i)] for i in range(col+1, max_index+1)]"
   ]
  },
  {
   "cell_type": "code",
   "execution_count": 95,
   "id": "b8d72890",
   "metadata": {},
   "outputs": [],
   "source": [
    "def all_neighbors_smaller(tree, neighbors):\n",
    "    for neighbor in neighbors:\n",
    "        if tree <= neighbor:\n",
    "            return False\n",
    "        else:\n",
    "            pass\n",
    "    return True"
   ]
  },
  {
   "cell_type": "code",
   "execution_count": 96,
   "id": "bb4d4c5e",
   "metadata": {},
   "outputs": [],
   "source": [
    "visible = 0\n",
    "for element, key in coord_dict.items():\n",
    "    row, col = element\n",
    "    \n",
    "    if all_neighbors_smaller(key, trees_to_the_top(row, col, coord_dict)) or \\\n",
    "        all_neighbors_smaller(key, trees_to_the_bottom(row, col, coord_dict)) or \\\n",
    "        all_neighbors_smaller(key, trees_to_the_left(row, col, coord_dict)) or \\\n",
    "        all_neighbors_smaller(key, trees_to_the_right(row, col, coord_dict)):\n",
    "        visible+=1\n",
    "    else:\n",
    "        pass"
   ]
  },
  {
   "cell_type": "code",
   "execution_count": 97,
   "id": "d813088d",
   "metadata": {},
   "outputs": [
    {
     "data": {
      "text/plain": [
       "1700"
      ]
     },
     "execution_count": 97,
     "metadata": {},
     "output_type": "execute_result"
    }
   ],
   "source": [
    "visible"
   ]
  },
  {
   "cell_type": "markdown",
   "id": "4a9ee2d9",
   "metadata": {},
   "source": [
    "### part 2"
   ]
  },
  {
   "cell_type": "code",
   "execution_count": 100,
   "id": "67c3ffda",
   "metadata": {},
   "outputs": [],
   "source": [
    "def first_blocking_tree_index(tree_height:int, tree_list:list):\n",
    "    index = 0\n",
    "    for tree in tree_list:\n",
    "        if tree >= tree_height:\n",
    "            index += 1\n",
    "            return index\n",
    "        else:\n",
    "            index +=1\n",
    "    return index\n",
    "    \n",
    "    \n",
    "def tree_score(row, col, coord_dict):\n",
    "    current_height = coord_dict[(row, col)]\n",
    "    bottom_score = first_blocking_tree_index(current_height, trees_to_the_bottom(row, col, coord_dict))\n",
    "    top_score = first_blocking_tree_index(current_height, trees_to_the_top(row, col, coord_dict))\n",
    "    left_score = first_blocking_tree_index(current_height, trees_to_the_left(row, col, coord_dict))\n",
    "    right_score = first_blocking_tree_index(current_height, trees_to_the_right(row, col, coord_dict))\n",
    "    return bottom_score * top_score * left_score * right_score"
   ]
  },
  {
   "cell_type": "code",
   "execution_count": 101,
   "id": "f0a02e52",
   "metadata": {},
   "outputs": [],
   "source": [
    "cached_value = 0\n",
    "for row in range(1, len(grid[0])):\n",
    "    for col in range(1, len(grid[1])):\n",
    "        if tree_score(row, col, coord_dict) > cached_value:\n",
    "            cached_value = tree_score(row, col, coord_dict)"
   ]
  },
  {
   "cell_type": "code",
   "execution_count": 102,
   "id": "6e1f211c",
   "metadata": {},
   "outputs": [
    {
     "data": {
      "text/plain": [
       "470596"
      ]
     },
     "execution_count": 102,
     "metadata": {},
     "output_type": "execute_result"
    }
   ],
   "source": [
    "cached_value"
   ]
  },
  {
   "cell_type": "code",
   "execution_count": null,
   "id": "d4c31894",
   "metadata": {},
   "outputs": [],
   "source": []
  }
 ],
 "metadata": {
  "kernelspec": {
   "display_name": "AOC",
   "language": "python",
   "name": "aoc"
  },
  "language_info": {
   "codemirror_mode": {
    "name": "ipython",
    "version": 3
   },
   "file_extension": ".py",
   "mimetype": "text/x-python",
   "name": "python",
   "nbconvert_exporter": "python",
   "pygments_lexer": "ipython3",
   "version": "3.10.8"
  }
 },
 "nbformat": 4,
 "nbformat_minor": 5
}
