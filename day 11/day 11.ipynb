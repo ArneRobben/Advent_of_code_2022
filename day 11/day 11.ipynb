{
 "cells": [
  {
   "cell_type": "code",
   "execution_count": 15,
   "id": "ba255e01",
   "metadata": {},
   "outputs": [],
   "source": [
    "from collections import defaultdict\n",
    "from tqdm import tqdm\n",
    "import sys\n",
    "sys.path.append(\"..\")\n",
    "from scripts.aoc import input_as_lines"
   ]
  },
  {
   "cell_type": "code",
   "execution_count": 16,
   "id": "ec766af2",
   "metadata": {},
   "outputs": [],
   "source": [
    "input_lines = input_as_lines(\"input.txt\")"
   ]
  },
  {
   "cell_type": "code",
   "execution_count": 17,
   "id": "0998f685",
   "metadata": {},
   "outputs": [
    {
     "name": "stdout",
     "output_type": "stream",
     "text": [
      "I identified 8 monkies\n"
     ]
    }
   ],
   "source": [
    "input_lines_by_monkey = [input_lines[i*7:i*7+6] for i in range(0, round(len(input_lines)/7))]\n",
    "n_monkeys = len(input_lines_by_monkey)\n",
    "print(f\"I identified {n_monkeys} monkies\")"
   ]
  },
  {
   "cell_type": "code",
   "execution_count": 18,
   "id": "f11fd1fc",
   "metadata": {},
   "outputs": [
    {
     "data": {
      "text/plain": [
       "[['Monkey 0:',\n",
       "  '  Starting items: 91, 66',\n",
       "  '  Operation: new = old * 13',\n",
       "  '  Test: divisible by 19',\n",
       "  '    If true: throw to monkey 6',\n",
       "  '    If false: throw to monkey 2'],\n",
       " ['Monkey 1:',\n",
       "  '  Starting items: 78, 97, 59',\n",
       "  '  Operation: new = old + 7',\n",
       "  '  Test: divisible by 5',\n",
       "  '    If true: throw to monkey 0',\n",
       "  '    If false: throw to monkey 3'],\n",
       " ['Monkey 2:',\n",
       "  '  Starting items: 57, 59, 97, 84, 72, 83, 56, 76',\n",
       "  '  Operation: new = old + 6',\n",
       "  '  Test: divisible by 11',\n",
       "  '    If true: throw to monkey 5',\n",
       "  '    If false: throw to monkey 7'],\n",
       " ['Monkey 3:',\n",
       "  '  Starting items: 81, 78, 70, 58, 84',\n",
       "  '  Operation: new = old + 5',\n",
       "  '  Test: divisible by 17',\n",
       "  '    If true: throw to monkey 6',\n",
       "  '    If false: throw to monkey 0'],\n",
       " ['Monkey 4:',\n",
       "  '  Starting items: 60',\n",
       "  '  Operation: new = old + 8',\n",
       "  '  Test: divisible by 7',\n",
       "  '    If true: throw to monkey 1',\n",
       "  '    If false: throw to monkey 3'],\n",
       " ['Monkey 5:',\n",
       "  '  Starting items: 57, 69, 63, 75, 62, 77, 72',\n",
       "  '  Operation: new = old * 5',\n",
       "  '  Test: divisible by 13',\n",
       "  '    If true: throw to monkey 7',\n",
       "  '    If false: throw to monkey 4'],\n",
       " ['Monkey 6:',\n",
       "  '  Starting items: 73, 66, 86, 79, 98, 87',\n",
       "  '  Operation: new = old * old',\n",
       "  '  Test: divisible by 3',\n",
       "  '    If true: throw to monkey 5',\n",
       "  '    If false: throw to monkey 2'],\n",
       " ['Monkey 7:',\n",
       "  '  Starting items: 95, 89, 63, 67',\n",
       "  '  Operation: new = old + 2',\n",
       "  '  Test: divisible by 2',\n",
       "  '    If true: throw to monkey 1',\n",
       "  '    If false: throw to monkey 4']]"
      ]
     },
     "execution_count": 18,
     "metadata": {},
     "output_type": "execute_result"
    }
   ],
   "source": [
    "input_lines_by_monkey"
   ]
  },
  {
   "cell_type": "code",
   "execution_count": 19,
   "id": "c4c66778",
   "metadata": {},
   "outputs": [],
   "source": [
    "monkey_items = defaultdict(list)\n",
    "monkey_operation = defaultdict(str)\n",
    "monkey_test = defaultdict(int)\n",
    "monkey_test_result = defaultdict(tuple)\n",
    "\n",
    "for monkey in range(0, n_monkeys):\n",
    "    for segment in input_lines_by_monkey[monkey]:\n",
    "        if \"Starting items\" in segment:\n",
    "            _, start_list = segment.split(\":\")\n",
    "            monkey_items[monkey] = [int(item) for item in start_list.split(',')]\n",
    "        if \"Operation\" in segment:\n",
    "            _, operation = segment.split(\":\")\n",
    "            monkey_operation[monkey] = operation\n",
    "        if \"Test\" in segment:\n",
    "            _, test = segment.split(\"by\")\n",
    "            monkey_test[monkey] = int(test)\n",
    "        if \"true\" in segment:\n",
    "            _, result_true = segment.split(\"monkey\")\n",
    "        if \"false\" in segment:\n",
    "            _, result_false = segment.split(\"monkey\")\n",
    "            monkey_test_result[monkey] = (int(result_true), int(result_false))          \n",
    "            \n",
    "    "
   ]
  },
  {
   "cell_type": "code",
   "execution_count": 20,
   "id": "976ef118",
   "metadata": {},
   "outputs": [],
   "source": [
    "import math\n",
    "import copy\n",
    "\n",
    "def exec_operator(operator, old):\n",
    "    func = operator.split(\"=\")[1].replace(\" \",\"\")\n",
    "    if \"+\" in func:\n",
    "        left, right = func.split(\"+\")\n",
    "        if left == 'old':\n",
    "            left = old\n",
    "        if right == 'old':\n",
    "            right = old\n",
    "        new = int(left) + int(right)\n",
    "    if \"*\" in func:\n",
    "        left, right = func.split(\"*\")\n",
    "        if left == 'old':\n",
    "            left = old\n",
    "        if right == 'old':\n",
    "            right = old\n",
    "        new = int(left) * int(right)\n",
    "    return new\n",
    "\n",
    "\n",
    "new_monkey_items = copy.deepcopy(monkey_items)\n",
    "monkey_checks = defaultdict(lambda: 0)\n",
    "\n",
    "for monkey_round in range(0, 20):\n",
    "    for monkey in range(0, n_monkeys):\n",
    "        monkey_items = new_monkey_items \n",
    "        new_monkey_items = copy.deepcopy(monkey_items)\n",
    "        for item in monkey_items[monkey]:\n",
    "            old = item\n",
    "            new = exec_operator(monkey_operation[monkey], old)\n",
    "            new = math.floor(new / 3)\n",
    "            if new % monkey_test[monkey]==0:\n",
    "                new_monkey = monkey_test_result[monkey][0]\n",
    "                new_monkey_items[new_monkey].append(new)\n",
    "                new_monkey_items[monkey].pop(0)\n",
    "            elif new % monkey_test[monkey]!=0:\n",
    "                new_monkey = monkey_test_result[monkey][1]\n",
    "                new_monkey_items[new_monkey].append(new)   \n",
    "                new_monkey_items[monkey].pop(0)\n",
    "                \n",
    "            monkey_checks[monkey]+=1"
   ]
  },
  {
   "cell_type": "code",
   "execution_count": 21,
   "id": "aedb183d",
   "metadata": {},
   "outputs": [
    {
     "data": {
      "text/plain": [
       "defaultdict(list,\n",
       "            {0: [2, 2, 2, 2, 2, 2, 2, 2, 2, 2, 2, 2, 2, 2, 2, 2, 2, 2, 2, 2],\n",
       "             1: [2, 2, 2, 2, 2, 2, 2, 2, 2, 2, 2, 2, 2, 2, 2, 2],\n",
       "             2: [],\n",
       "             3: [],\n",
       "             4: [],\n",
       "             5: [],\n",
       "             6: [],\n",
       "             7: []})"
      ]
     },
     "execution_count": 21,
     "metadata": {},
     "output_type": "execute_result"
    }
   ],
   "source": [
    "new_monkey_items"
   ]
  },
  {
   "cell_type": "code",
   "execution_count": 22,
   "id": "09fac28f",
   "metadata": {},
   "outputs": [
    {
     "data": {
      "text/plain": [
       "101436"
      ]
     },
     "execution_count": 22,
     "metadata": {},
     "output_type": "execute_result"
    }
   ],
   "source": [
    "math.prod(sorted([monkey_checks[key] for key in monkey_checks])[-2:])"
   ]
  },
  {
   "cell_type": "markdown",
   "id": "881a62d7",
   "metadata": {},
   "source": [
    "## part 2"
   ]
  },
  {
   "cell_type": "code",
   "execution_count": 23,
   "id": "f3b7f5b7",
   "metadata": {},
   "outputs": [],
   "source": [
    "monkey_items = defaultdict(list)\n",
    "monkey_operation = defaultdict(str)\n",
    "monkey_test = defaultdict(int)\n",
    "monkey_test_result = defaultdict(tuple)\n",
    "\n",
    "for monkey in range(0, n_monkeys):\n",
    "    for segment in input_lines_by_monkey[monkey]:\n",
    "        if \"Starting items\" in segment:\n",
    "            _, start_list = segment.split(\":\")\n",
    "            monkey_items[monkey] = [int(item) for item in start_list.split(',')]\n",
    "        if \"Operation\" in segment:\n",
    "            _, operation = segment.split(\":\")\n",
    "            monkey_operation[monkey] = operation\n",
    "        if \"Test\" in segment:\n",
    "            _, test = segment.split(\"by\")\n",
    "            monkey_test[monkey] = int(test)\n",
    "        if \"true\" in segment:\n",
    "            _, result_true = segment.split(\"monkey\")\n",
    "        if \"false\" in segment:\n",
    "            _, result_false = segment.split(\"monkey\")\n",
    "            monkey_test_result[monkey] = (int(result_true), int(result_false))          \n",
    "            "
   ]
  },
  {
   "cell_type": "code",
   "execution_count": 24,
   "id": "f6bd7ae1",
   "metadata": {},
   "outputs": [
    {
     "name": "stderr",
     "output_type": "stream",
     "text": [
      "100%|███████████████████████████████████| 10000/10000 [00:01<00:00, 5377.91it/s]\n"
     ]
    }
   ],
   "source": [
    "def exec_operator(operator, old):\n",
    "    func = operator.split(\"=\")[1].replace(\" \",\"\")\n",
    "    if \"+\" in func:\n",
    "        left, right = func.split(\"+\")\n",
    "        if left == 'old':\n",
    "            left = old\n",
    "        if right == 'old':\n",
    "            right = old\n",
    "        new = int(left) + int(right)\n",
    "    if \"*\" in func:\n",
    "        left, right = func.split(\"*\")\n",
    "        if left == 'old':\n",
    "            left = old\n",
    "        if right == 'old':\n",
    "            right = old\n",
    "        new = int(left) * int(right)\n",
    "    return new\n",
    "\n",
    "\n",
    "new_monkey_items = copy.deepcopy(monkey_items)\n",
    "monkey_checks = defaultdict(lambda: 0)\n",
    "dividers = [monkey_test[key] for key in monkey_test]\n",
    "\n",
    "for monkey_round in tqdm(range(0, 10000)):\n",
    "    for monkey in range(0, n_monkeys):\n",
    "        monkey_items = new_monkey_items \n",
    "        new_monkey_items = copy.deepcopy(monkey_items)\n",
    "        for item in monkey_items[monkey]:\n",
    "            old = item\n",
    "            new = exec_operator(monkey_operation[monkey], old)\n",
    "            new = new % math.prod(dividers)\n",
    "            \n",
    "            if new % monkey_test[monkey]==0:\n",
    "                new_monkey = monkey_test_result[monkey][0]\n",
    "                new_monkey_items[new_monkey].append(new)\n",
    "                new_monkey_items[monkey].pop(0)\n",
    "                \n",
    "            elif new % monkey_test[monkey]!=0:\n",
    "#                 new = new / math.prod(prime_factors_inc_dividers)\n",
    "                new_monkey = monkey_test_result[monkey][1]\n",
    "                new_monkey_items[new_monkey].append(new)   \n",
    "                new_monkey_items[monkey].pop(0)\n",
    "                \n",
    "            monkey_checks[monkey]+=1"
   ]
  },
  {
   "cell_type": "code",
   "execution_count": 25,
   "id": "853decec",
   "metadata": {},
   "outputs": [
    {
     "data": {
      "text/plain": [
       "19754471646"
      ]
     },
     "execution_count": 25,
     "metadata": {},
     "output_type": "execute_result"
    }
   ],
   "source": [
    "math.prod(sorted([monkey_checks[key] for key in monkey_checks])[-2:])"
   ]
  },
  {
   "cell_type": "code",
   "execution_count": null,
   "id": "8fd8517e",
   "metadata": {},
   "outputs": [],
   "source": []
  }
 ],
 "metadata": {
  "kernelspec": {
   "display_name": "AOC",
   "language": "python",
   "name": "aoc"
  },
  "language_info": {
   "codemirror_mode": {
    "name": "ipython",
    "version": 3
   },
   "file_extension": ".py",
   "mimetype": "text/x-python",
   "name": "python",
   "nbconvert_exporter": "python",
   "pygments_lexer": "ipython3",
   "version": "3.10.8"
  }
 },
 "nbformat": 4,
 "nbformat_minor": 5
}
