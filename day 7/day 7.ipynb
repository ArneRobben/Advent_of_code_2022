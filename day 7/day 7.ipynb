{
 "cells": [
  {
   "cell_type": "code",
   "execution_count": 1,
   "id": "9ae27a62",
   "metadata": {},
   "outputs": [],
   "source": [
    "import sys\n",
    "from collections import defaultdict\n",
    "sys.path.append(\"..\")\n",
    "from scripts.aoc import input_as_lines"
   ]
  },
  {
   "cell_type": "code",
   "execution_count": 2,
   "id": "731ea7db",
   "metadata": {},
   "outputs": [],
   "source": [
    "file_input = input_as_lines(\"input.txt\")"
   ]
  },
  {
   "cell_type": "code",
   "execution_count": 4,
   "id": "b7496b4c",
   "metadata": {},
   "outputs": [],
   "source": [
    "dirs_files = defaultdict(list) # returns all files within a dir\n",
    "dirs_children = defaultdict(set) # returns all children for a dir name\n",
    "\n",
    "for line in file_input:\n",
    "    \n",
    "    # case change directory\n",
    "    if \"$ cd ..\" in line:\n",
    "        current_dir_path.pop()\n",
    "        \n",
    "    # let's treat the root as a special case\n",
    "    elif \"$ cd /\" in line:\n",
    "        name = 'root'\n",
    "        current_dir_path = [name]\n",
    "        \n",
    "    # case change directory\n",
    "    elif \"$ cd\" in line:\n",
    "        name = line[5:]\n",
    "        current_dir_path.append(name)\n",
    "        \n",
    "    # case list content\n",
    "    elif \"$ ls\" in line:\n",
    "        pass # don't do anything\n",
    "    \n",
    "    # case line starts with dir\n",
    "    elif \"dir\" in line:\n",
    "        name = line[4:]\n",
    "        dirs_children['/'.join(current_dir_path)].add(name)\n",
    "     \n",
    "    # else it's a file\n",
    "    else:\n",
    "        name = line.split(' ')[1]\n",
    "        size = line.split(' ')[0]\n",
    "        if name not in dirs_children:\n",
    "            dirs_files['/'.join(current_dir_path)].append(int(size))"
   ]
  },
  {
   "cell_type": "code",
   "execution_count": 5,
   "id": "fab7e3da",
   "metadata": {},
   "outputs": [],
   "source": [
    "def get_all_files(dir_name):\n",
    "    all_files = []\n",
    "    # get the file names in the dir\n",
    "    if dir_name in dirs_files:\n",
    "        files = dirs_files[dir_name]\n",
    "        for file in files:\n",
    "            all_files.append(file)\n",
    "    \n",
    "    # do the same as above but for every directory\n",
    "    if dir_name in dirs_children:\n",
    "        child_dirs = dirs_children[dir_name]\n",
    "        for child in child_dirs:\n",
    "            all_files.extend(get_all_files(dir_name+\"/\"+child)) #recursion!\n",
    "    \n",
    "    return all_files"
   ]
  },
  {
   "cell_type": "code",
   "execution_count": 24,
   "id": "8000e5e0",
   "metadata": {},
   "outputs": [],
   "source": [
    "# now sum up all subdirectories.\n",
    "dirs_all_files = defaultdict(int)\n",
    "\n",
    "all_dirs = set(dirs_files.keys()).union(set(dirs_children.keys()))\n",
    "for key in all_dirs:\n",
    "    dirs_all_files[key] = sum(get_all_files(key))"
   ]
  },
  {
   "cell_type": "code",
   "execution_count": 25,
   "id": "fd0c9494",
   "metadata": {},
   "outputs": [
    {
     "data": {
      "text/plain": [
       "1243729"
      ]
     },
     "execution_count": 25,
     "metadata": {},
     "output_type": "execute_result"
    }
   ],
   "source": [
    "sum([item[1] for item in dirs_all_files.items() if item[1]<=100000])"
   ]
  },
  {
   "cell_type": "markdown",
   "id": "6dbaa55e",
   "metadata": {},
   "source": [
    "### part 2"
   ]
  },
  {
   "cell_type": "code",
   "execution_count": 55,
   "id": "5ddc6c34",
   "metadata": {},
   "outputs": [
    {
     "name": "stdout",
     "output_type": "stream",
     "text": [
      "4443914\n"
     ]
    }
   ],
   "source": [
    "total_disk_space = 70000000\n",
    "minimum_disk_space = 30000000\n",
    "folder_sizes = sorted([item[1] for item in dirs_all_files.items()])\n",
    "current_disk_use = folder_sizes[-1]\n",
    "\n",
    "for dir_size in folder_sizes:\n",
    "    if (total_disk_space - current_disk_use + dir_size) > minimum_disk_space:\n",
    "        print(dir_size)\n",
    "        break\n",
    "    "
   ]
  },
  {
   "cell_type": "code",
   "execution_count": null,
   "id": "27dfe515",
   "metadata": {},
   "outputs": [],
   "source": []
  }
 ],
 "metadata": {
  "kernelspec": {
   "display_name": "AOC",
   "language": "python",
   "name": "aoc"
  },
  "language_info": {
   "codemirror_mode": {
    "name": "ipython",
    "version": 3
   },
   "file_extension": ".py",
   "mimetype": "text/x-python",
   "name": "python",
   "nbconvert_exporter": "python",
   "pygments_lexer": "ipython3",
   "version": "3.10.8"
  }
 },
 "nbformat": 4,
 "nbformat_minor": 5
}
