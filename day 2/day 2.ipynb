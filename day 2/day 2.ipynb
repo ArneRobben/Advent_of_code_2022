{
 "cells": [
  {
   "cell_type": "code",
   "execution_count": 1,
   "id": "ffb3d8a3",
   "metadata": {},
   "outputs": [],
   "source": [
    "import sys\n",
    "sys.path.append(\"..\")\n",
    "from scripts.aoc import input_as_lines"
   ]
  },
  {
   "cell_type": "code",
   "execution_count": 2,
   "id": "202ede61",
   "metadata": {},
   "outputs": [],
   "source": [
    "file_name = \"input.txt\"\n",
    "rps_list = input_as_lines(file_name)"
   ]
  },
  {
   "cell_type": "code",
   "execution_count": 3,
   "id": "2c15e5af",
   "metadata": {},
   "outputs": [],
   "source": [
    "personal_score_lib = {'X':1, 'Y':2, 'Z':3}\n",
    "game_score_lib = {('A', 'X'):3, ('B', 'Y'):3, ('C', 'Z'):3, #draw scenarios\n",
    "                  ('A', 'Z'):0, ('B', 'X'):0, ('C', 'Y'):0, #scenarios you lose\n",
    "                  ('A', 'Y'):6, ('B', 'Z'):6, ('C', 'X'):6  #scenarios you win\n",
    "                 }"
   ]
  },
  {
   "cell_type": "code",
   "execution_count": 4,
   "id": "837109df",
   "metadata": {},
   "outputs": [],
   "source": [
    "score = []\n",
    "for rps_round in rps_list:\n",
    "    they, you = rps_round.split(' ')\n",
    "    # now just look up the scores in the above libraries\n",
    "    score.append(game_score_lib[(they, you)] + personal_score_lib[you])\n",
    "    "
   ]
  },
  {
   "cell_type": "code",
   "execution_count": 5,
   "id": "6538ac56",
   "metadata": {},
   "outputs": [
    {
     "data": {
      "text/plain": [
       "12276"
      ]
     },
     "execution_count": 5,
     "metadata": {},
     "output_type": "execute_result"
    }
   ],
   "source": [
    "sum(score)"
   ]
  },
  {
   "cell_type": "markdown",
   "id": "eb6217ba",
   "metadata": {},
   "source": [
    "### part two"
   ]
  },
  {
   "cell_type": "code",
   "execution_count": 8,
   "id": "03ffc33f",
   "metadata": {},
   "outputs": [],
   "source": [
    "result_lib = {'X':0, 'Y':3, 'Z':6} #lose, draw, win\n",
    "choise_lib = {'Rock': 1, 'Paper':2, 'Scissors':3} # your choice\n",
    "strategy_lib = {('A', 'X'):'Scissors', ('B', 'Y'):'Paper', ('C', 'Z'):'Rock', \n",
    "                  ('A', 'Z'):'Paper', ('B', 'X'):'Rock', ('C', 'Y'):'Scissors', \n",
    "                  ('A', 'Y'):'Rock', ('B', 'Z'):'Scissors', ('C', 'X'):'Paper'  \n",
    "                 }\n",
    "score = []\n",
    "for rps_round in rps_list:\n",
    "    they, result = rps_round.split(' ')\n",
    "    you = strategy_lib[(they, result)]\n",
    "    # now just look up the scores in the above libraries\n",
    "    score.append(choise_lib[you] + result_lib[result])"
   ]
  },
  {
   "cell_type": "code",
   "execution_count": 9,
   "id": "fd6b1e2c",
   "metadata": {},
   "outputs": [
    {
     "data": {
      "text/plain": [
       "9975"
      ]
     },
     "execution_count": 9,
     "metadata": {},
     "output_type": "execute_result"
    }
   ],
   "source": [
    "sum(score)"
   ]
  },
  {
   "cell_type": "code",
   "execution_count": null,
   "id": "889a9b50",
   "metadata": {},
   "outputs": [],
   "source": []
  }
 ],
 "metadata": {
  "kernelspec": {
   "display_name": "AOC",
   "language": "python",
   "name": "aoc"
  },
  "language_info": {
   "codemirror_mode": {
    "name": "ipython",
    "version": 3
   },
   "file_extension": ".py",
   "mimetype": "text/x-python",
   "name": "python",
   "nbconvert_exporter": "python",
   "pygments_lexer": "ipython3",
   "version": "3.10.8"
  }
 },
 "nbformat": 4,
 "nbformat_minor": 5
}
